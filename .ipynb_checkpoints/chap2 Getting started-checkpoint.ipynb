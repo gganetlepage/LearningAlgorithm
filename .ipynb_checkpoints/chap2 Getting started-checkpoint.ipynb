{
 "cells": [
  {
   "cell_type": "code",
   "execution_count": 16,
   "metadata": {
    "scrolled": true
   },
   "outputs": [
    {
     "data": {
      "text/plain": [
       "6-element Array{Int64,1}:\n",
       " 1\n",
       " 2\n",
       " 3\n",
       " 3\n",
       " 4\n",
       " 5"
      ]
     },
     "execution_count": 16,
     "metadata": {},
     "output_type": "execute_result"
    }
   ],
   "source": [
    "function insertionSort(array)\n",
    "    for j in 2:length(array)\n",
    "        #loop invariant: insert array[j] into the sorted sequence array[1:j-1]\n",
    "        keyToPlace = array[j]\n",
    "        i = j - 1\n",
    "        while i ≥ 1 && array[i] > keyToPlace\n",
    "            #loop invariant: keyToPlace is not at its correct place\n",
    "            array[i+1] = array[i]\n",
    "            i -=1\n",
    "        end\n",
    "        array[i+1] = keyToPlace\n",
    "    end\n",
    "    array\n",
    "end\n",
    "\n",
    "A = [3,2,3,1,4,5]\n",
    "insertionSort(A)"
   ]
  },
  {
   "cell_type": "code",
   "execution_count": 2,
   "metadata": {},
   "outputs": [
    {
     "data": {
      "text/plain": [
       "fact (generic function with 1 method)"
      ]
     },
     "execution_count": 2,
     "metadata": {},
     "output_type": "execute_result"
    }
   ],
   "source": [
    "function fact(n::Int)\n",
    "    n >= 0 || error(\"n must be non-negative\")\n",
    "    n == 0 && return 1\n",
    "    n * fact(n-1)\n",
    "end\n"
   ]
  },
  {
   "cell_type": "code",
   "execution_count": 3,
   "metadata": {},
   "outputs": [
    {
     "data": {
      "text/plain": [
       "insertionSortNonIncreasing (generic function with 1 method)"
      ]
     },
     "execution_count": 3,
     "metadata": {},
     "output_type": "execute_result"
    }
   ],
   "source": [
    "function insertionSortNonIncreasing(array)\n",
    "    for j in 2:length(array)\n",
    "        #loop invariant: insert array[j] into the sorted sequence array[1:j-1]\n",
    "        keyToPlace = array[j]\n",
    "        i = j - 1\n",
    "        while i ≥ 1 && array[i] < keyToPlace\n",
    "            #loop invariant: keyToPlace is not at its correct place\n",
    "            array[i+1] = array[i]\n",
    "            i -=1\n",
    "        end\n",
    "        array[i+1] = keyToPlace\n",
    "    end\n",
    "    array\n",
    "end"
   ]
  },
  {
   "cell_type": "code",
   "execution_count": 4,
   "metadata": {},
   "outputs": [
    {
     "data": {
      "text/plain": [
       "6-element Array{Int64,1}:\n",
       " 59\n",
       " 58\n",
       " 41\n",
       " 41\n",
       " 31\n",
       " 26"
      ]
     },
     "execution_count": 4,
     "metadata": {},
     "output_type": "execute_result"
    }
   ],
   "source": [
    "insertionSortNonIncreasing([31,41,59,26,41,58])"
   ]
  },
  {
   "cell_type": "code",
   "execution_count": 11,
   "metadata": {},
   "outputs": [
    {
     "data": {
      "text/plain": [
       "\"not in the array\""
      ]
     },
     "execution_count": 11,
     "metadata": {},
     "output_type": "execute_result"
    }
   ],
   "source": [
    "#2.1-3\n",
    "function linearSearch(array,value)\n",
    "    i = 1\n",
    "    #loop invariant: value is not in array[1:i-1]\n",
    "    while i ≤ length(array)\n",
    "        array[i]==value && return i\n",
    "        i +=1\n",
    "    end\n",
    "    \"not in the array\"\n",
    "end\n",
    "\n",
    "linearSearch([31,41,59,26,41,58],4)\n",
    "    "
   ]
  },
  {
   "cell_type": "code",
   "execution_count": 38,
   "metadata": {},
   "outputs": [
    {
     "data": {
      "text/plain": [
       "binarySum (generic function with 1 method)"
      ]
     },
     "execution_count": 38,
     "metadata": {},
     "output_type": "execute_result"
    }
   ],
   "source": [
    "#2.1-4\n",
    "function binarySum(B1, B2)\n",
    "    L = length(B1)\n",
    "    L == length(B2) || error(\"arrays don't share the same length\")\n",
    "    remainder =  Array{Integer}(undef,L)\n",
    "    sum = Array{Integer}(undef,L+1)\n",
    "    # compute remainder and sum\n",
    "    remainder[end] = (B1[end]+B2[end]) ÷ 2\n",
    "    sum[end] = (B1[end]+B2[end]) % 2\n",
    "    for i in reverse(1:L-1)\n",
    "        remainder[i] = (B1[i] + B2[i] + remainder[i+1]) ÷ 2\n",
    "        sum[i+1] = (B1[i] + B2[i] + remainder[i+1]) % 2\n",
    "    end\n",
    "    sum[1] = remainder[1]\n",
    "    sum    \n",
    "end"
   ]
  },
  {
   "cell_type": "code",
   "execution_count": 40,
   "metadata": {},
   "outputs": [
    {
     "data": {
      "text/plain": [
       "5-element Array{Integer,1}:\n",
       " 1\n",
       " 1\n",
       " 0\n",
       " 1\n",
       " 0"
      ]
     },
     "execution_count": 40,
     "metadata": {},
     "output_type": "execute_result"
    }
   ],
   "source": [
    "b1 = [1,1,0,0]\n",
    "b2 = [1,1,1,0]\n",
    "binarySum(b1,b2)"
   ]
  },
  {
   "cell_type": "code",
   "execution_count": 75,
   "metadata": {},
   "outputs": [
    {
     "data": {
      "text/plain": [
       "8-element Array{Int64,1}:\n",
       " 1\n",
       " 2\n",
       " 2\n",
       " 3\n",
       " 4\n",
       " 5\n",
       " 6\n",
       " 7"
      ]
     },
     "execution_count": 75,
     "metadata": {},
     "output_type": "execute_result"
    }
   ],
   "source": [
    "#2.3-2\n",
    "function merge(A,p,q,r)\n",
    "    left = A[p:q]\n",
    "    right = A[q+1:r]\n",
    "    i = 1 #left\n",
    "    j = 1 #Right\n",
    "    for k in p:r\n",
    "        if i≤q-p+1 && j ≤ r-q\n",
    "            if left[i]≤ right[j]\n",
    "                A[k] = left[i]\n",
    "                i += 1\n",
    "            else\n",
    "                A[k] = right[j]\n",
    "                j += 1\n",
    "            end\n",
    "        elseif i ≥ q-p+2\n",
    "            #add only left elements of right\n",
    "            A[k] = right[j]\n",
    "            j += 1\n",
    "        else\n",
    "            #add only left elements of left\n",
    "            A[k] = left[i]\n",
    "            i += 1\n",
    "        end\n",
    "    end\n",
    "    A\n",
    "end\n",
    "\n",
    "Amerge1 = [2,4,5,7,1,2,3,6]\n",
    "merge(Amerge1,1,4,8)"
   ]
  },
  {
   "cell_type": "code",
   "execution_count": 77,
   "metadata": {},
   "outputs": [
    {
     "data": {
      "text/plain": [
       "8-element Array{Int64,1}:\n",
       " 1\n",
       " 2\n",
       " 2\n",
       " 3\n",
       " 3\n",
       " 4\n",
       " 4\n",
       " 5"
      ]
     },
     "execution_count": 77,
     "metadata": {},
     "output_type": "execute_result"
    }
   ],
   "source": [
    "function mergeSort(A,p,r)\n",
    "    if p<r\n",
    "        q = fld((p+r),2)\n",
    "        mergeSort(A,p,q)\n",
    "        mergeSort(A,q+1,r)\n",
    "        merge(A,p,q,r)\n",
    "    end\n",
    "end\n",
    "\n",
    "mergeSort([2,3,4,5,1,2,3,4],1,8)\n"
   ]
  },
  {
   "cell_type": "code",
   "execution_count": 72,
   "metadata": {},
   "outputs": [
    {
     "data": {
      "text/plain": [
       "false"
      ]
     },
     "execution_count": 72,
     "metadata": {},
     "output_type": "execute_result"
    }
   ],
   "source": [
    "#2.3.5\n",
    "function binarySearchRecursive(A,value)\n",
    "    L = length(A)\n",
    "    L==1 && return A[1]==value\n",
    "    α = A[fld(L,2)]\n",
    "    if α ==value\n",
    "        return true\n",
    "    elseif α < value\n",
    "        return binarySearchRecursive(A[cld(L,2):end],value)\n",
    "    else\n",
    "        # α > value\n",
    "        return binarySearchRecursive(A[1:fld(L,2)],value)\n",
    "    end\n",
    "end\n",
    "\n",
    "orderedA = [1,2,3,4,5,7,8,9]\n",
    "binarySearchRecursive(orderedA,6)   "
   ]
  },
  {
   "cell_type": "code",
   "execution_count": 73,
   "metadata": {},
   "outputs": [
    {
     "data": {
      "text/plain": [
       "6"
      ]
     },
     "execution_count": 73,
     "metadata": {},
     "output_type": "execute_result"
    }
   ],
   "source": [
    "#2.3.5bis\n",
    "function binarySearchIterative(A,target)\n",
    "    left = 1\n",
    "    right = length(A)\n",
    "    #loop invariant: target not found, still some elements to explore between index left and index right\n",
    "    while left ≤ right\n",
    "        middle = fld(left + right, 2)\n",
    "        if A[middle]==target\n",
    "            return middle\n",
    "        elseif A[middle] < target\n",
    "            left = middle + 1\n",
    "        else\n",
    "            right = middle - 1\n",
    "        end\n",
    "    end\n",
    "    # if the algo leaves the while loop, then the target is not in the array A\n",
    "    false\n",
    "end\n",
    "    \n",
    "binarySearchIterative(orderedA,7)"
   ]
  },
  {
   "cell_type": "code",
   "execution_count": 19,
   "metadata": {},
   "outputs": [
    {
     "data": {
      "text/plain": [
       "6-element Array{Int64,1}:\n",
       " 1\n",
       " 1\n",
       " 2\n",
       " 3\n",
       " 4\n",
       " 5"
      ]
     },
     "execution_count": 19,
     "metadata": {},
     "output_type": "execute_result"
    }
   ],
   "source": [
    "#2.3.6\n",
    "\"\"\"insertion sort with binary search\n",
    "1st: do a binary search algo returning the index where the key should be inserted\n",
    "2nd: do insertion sort algo using the previous info\n",
    "\"\"\"\n",
    "#assume A is sorted, due to the loop invariant property of insertion sort\n",
    "function binarySearchIndex(A,key)\n",
    "    left = 1\n",
    "    right = length(A)\n",
    "    while right ≥ left\n",
    "        # search for the correct position of the key\n",
    "        middle = fld(right+left, 2)\n",
    "        if A[middle] ≥ key\n",
    "            right = middle -1\n",
    "        else\n",
    "            left = middle + 1\n",
    "        end\n",
    "    end\n",
    "    left # position of the key in the sorted array made of A ∪ {key}\n",
    "end\n",
    "\n",
    "Abinary = map(x->x*2,1:6)\n",
    "αBin = 10\n",
    "posBin = binarySearchIndex(Abinary,αBin)\n",
    "[Abinary[1:posBin-1];α;Abinary[posBin:end]]\n",
    "    \n",
    "function insertionSortWithBinarySearch(array)\n",
    "    for j in 2:length(array)\n",
    "        #loop invariant: insert array[j] into the sorted sequence array[1:j-1]\n",
    "        key = array[j]\n",
    "        B = array[1:j-1]\n",
    "        position = binarySearchIndex(B,key)\n",
    "        # array[1:position-1] unchanged\n",
    "        # array[position+1:j] = B[position:j-1]\n",
    "        # array[position] = key\n",
    "        array[position+1:j] = B[position:j-1]\n",
    "        array[position] = key\n",
    "    end\n",
    "    array\n",
    "end\n",
    "\n",
    "Ainsert = [5,4,1,3,2,1]\n",
    "insertionSortWithBinarySearch(Ainsert)"
   ]
  },
  {
   "cell_type": "code",
   "execution_count": 66,
   "metadata": {},
   "outputs": [
    {
     "name": "stdout",
     "output_type": "stream",
     "text": [
      "i:1 false\n",
      "i:2 false\n",
      "last element taken: 1\n",
      "i:3 true\n",
      "i:4 false\n",
      "last element taken: 1\n",
      "i:5 true\n",
      "last element taken: 2\n",
      "i:6 true\n",
      "last element taken: 1\n",
      "i:7 true\n",
      "last element taken: 2\n",
      "i:8 true\n",
      "last element taken: 1\n",
      "i:9 true\n",
      "last element taken: 3\n",
      "i:10 true\n",
      "last element taken: 1\n",
      "i:11 true\n",
      "last element taken: 3\n",
      "i:12 true\n",
      "i:13 false\n",
      "last element taken: 4\n",
      "i:14 true\n",
      "i:15 false\n",
      "last element taken: 4\n",
      "i:16 true\n",
      "i:17 false\n",
      "last element taken: 5\n",
      "i:18 true\n",
      "i:19 false\n",
      "i:20 false\n"
     ]
    }
   ],
   "source": [
    "#2.3-7\n",
    "\"\"\"2-element subset sum problem\"\"\"\n",
    "function twoSum(A, target)\n",
    "    function q(i,j,x)\n",
    "        if j==0 && x==0\n",
    "            println(\"last element taken: $(i+1)\")\n",
    "            return true\n",
    "        elseif i==0 || j==0 && x!=0  #no more element to test\n",
    "            return false\n",
    "        else\n",
    "            q(i-1,j,x) || q(i-1,j-1, x - A[i])\n",
    "        end\n",
    "    end\n",
    "    q(length(A),2,target)\n",
    "end\n",
    "\n",
    "for i in 1:20\n",
    "    println(\"i:$i \", twoSum([1,2,4,6,8,10],i))\n",
    "end"
   ]
  },
  {
   "cell_type": "markdown",
   "metadata": {},
   "source": [
    "$\\textbf{2-1 Insertion sort on small arrays in merge sort}$ <br>\n",
    "a.<br>\n",
    "By the insertion sort over a sublist of length k: <br>\n",
    "The \"for\" loop has k-1 iterations <br>\n",
    "the nested while loop has at most j-1 iterations, with j being the index of the for loop. <br>\n",
    "hence, $ \\sum_{k=1}^n j = \\frac{k(k+1)}{2}$, i.e. $ O(k^2)$ <br>\n",
    "there are $\\frac{n}{k}$ sublists, hence in total $O(nk)$ <br>"
   ]
  },
  {
   "cell_type": "markdown",
   "metadata": {},
   "source": [
    "b.<br>\n",
    "in the mergeSort function,\n",
    "instead of: if$ p<r$ (meaning, when size is 0 or 1)<br>\n",
    "put: if $p-r\\leq k$ (when size $\\leq$ k)<br>\n",
    "Therefore, when constructing the tree of decomposition, the number of levels of the tree $i$ is <br>\n",
    "$\\frac{n}{2^i} \\leq k$<br> i.e. $O(lg(\\frac{n}{k})) $"
   ]
  },
  {
   "cell_type": "markdown",
   "metadata": {},
   "source": [
    "c.<br>\n",
    "Merge sort is in $O(n*lg(n))$\n",
    "hence, having a $O(n*k + n*lg(\\frac{n}{k}))$ requires a $k$ not too close from $n$ otherwise the worst-case complexity is around $O(n^2)$"
   ]
  },
  {
   "cell_type": "markdown",
   "metadata": {},
   "source": [
    "$\\textbf{2-2 Correctness of bubble sort}$<br>\n",
    "a. initialization, maintenance and termination<br>\n"
   ]
  },
  {
   "cell_type": "markdown",
   "metadata": {},
   "source": [
    "b.<br>\n",
    "before the iteration, A[j] is the smallest element of array A[j:length(A)].\n",
    "Proved using the initial case with j= length(A) and by induction on j-1, 2 cases to deal, handled by the if condition; it terminates with j=2, doing a last possible exchange between the first and second cell"
   ]
  },
  {
   "cell_type": "markdown",
   "metadata": {},
   "source": [
    "c. at the beginning of an iteration of the loop, the array A[1:i-1] is non decreasingly ordered;<br>\n",
    "differently said, at the end of an iteration of the loop the array A[1:i] is decreasingly ordered.<br>\n",
    "The initial case is i=1: so empty array, so ordered<br>\n",
    "the induction: \n",
    "suppose it is true for i, prove it is true for i+1:<br>\n",
    "A[1:i-1] is decreasingly ordered, using the nested for loop invariant at j=i+1, A[i] is the smallest element of A[i:length(A)]. A[i] is greater or equal to elements of A[1:i-1] otherwise the element would have been exchanged at another index. (maybe try to prove by absurd ?)\n",
    "termination: at index A.length-1, there is only 1 element left to add, by induction it's the greater. Hence, the array is non decreasingly sorted\n"
   ]
  },
  {
   "cell_type": "markdown",
   "metadata": {},
   "source": [
    "d. \n",
    "$O(n^2)$"
   ]
  },
  {
   "cell_type": "markdown",
   "metadata": {},
   "source": [
    "$\\textbf{2-3 Corretness of Horner's rule}$"
   ]
  },
  {
   "cell_type": "markdown",
   "metadata": {},
   "source": [
    "a. using Horner's rule, $O(n)$<br>\n",
    "the naive approach is $O(n^2)$"
   ]
  },
  {
   "cell_type": "code",
   "execution_count": 6,
   "metadata": {},
   "outputs": [
    {
     "data": {
      "text/plain": [
       "HornerPolynomial (generic function with 1 method)"
      ]
     },
     "execution_count": 6,
     "metadata": {},
     "output_type": "execute_result"
    }
   ],
   "source": [
    "#b.\n",
    "function naivePolynomial(A,x)\n",
    "    y = 0\n",
    "    for i in 1:length(A)\n",
    "        y += A[i]*x^(i-1)\n",
    "    end\n",
    "    y\n",
    "end\n",
    "\n",
    "function HornerPolynomial(A,x)\n",
    "    y = 0\n",
    "    for i in reverse(1:length(A))\n",
    "        #loop invariant: at the end of an iteration i, the polynomial is:\n",
    "        # sum_{j=i}^{n} a_j* x^(j-i)\n",
    "        # at the beginning of an iteration i, it is:\n",
    "        # sum_{j=i+1}^{n} a_j* x^(j-i-1)\n",
    "        y = A[i] + x*y \n",
    "    end\n",
    "    y\n",
    "end\n",
    "\n",
    "#@time HornerPolynomial(1:1000000,12345) # 0.000000 seconds\n",
    "#@time naivePolynomial(1:1000000,12345)  # 0.048531 seconds"
   ]
  },
  {
   "cell_type": "markdown",
   "metadata": {},
   "source": [
    "c. Proving by: initialization, induction then termination<br>\n",
    "d. The algorithm terminates and gives the correct polynomial"
   ]
  },
  {
   "cell_type": "markdown",
   "metadata": {},
   "source": [
    "$\\textbf{2-4 Inversions}$<br>\n",
    "b. the array reverse{1:n}, having $ \\sum_{i=1}^{n-1} k = \\frac{n*(n+1)}{2}$ inversions\n"
   ]
  },
  {
   "cell_type": "markdown",
   "metadata": {},
   "source": [
    "c. insertion sort consists of inversions of neighbors"
   ]
  },
  {
   "cell_type": "code",
   "execution_count": null,
   "metadata": {},
   "outputs": [],
   "source": []
  }
 ],
 "metadata": {
  "kernelspec": {
   "display_name": "Julia 1.5.0",
   "language": "julia",
   "name": "julia-1.5"
  },
  "language_info": {
   "file_extension": ".jl",
   "mimetype": "application/julia",
   "name": "julia",
   "version": "1.5.0"
  }
 },
 "nbformat": 4,
 "nbformat_minor": 4
}
